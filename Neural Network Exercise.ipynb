{
 "cells": [
  {
   "cell_type": "markdown",
   "id": "024ae203",
   "metadata": {},
   "source": [
    "# Tasks"
   ]
  },
  {
   "cell_type": "markdown",
   "id": "e7e3548d",
   "metadata": {},
   "source": [
    "Now, put neural networks into action. You are tasked with building a neural network using data from this [kaggle competition](https://www.kaggle.com/competitions/house-prices-advanced-regression-techniques/data?select=sample_submission.csv). To complete the assignment, train and evaluate your model using only the train.csv."
   ]
  },
  {
   "cell_type": "markdown",
   "id": "d3ad11c6",
   "metadata": {},
   "source": [
    " ### Required Task:\n",
    "Be sure to perform a train test split on the train.csv so you can evaluate your models.\n",
    "Create and evaluate 3 iterations of a deep learning model to predict housing prices using the techniques you have learned to optimize your model's performance. Be sure to include some form of regularization with at least one model.\n",
    "Select your best model!\n",
    "\n",
    "### Optional Task\n",
    "Use your best model to make predictions using the features in test.csv.\n",
    "Submit to the Kaggle competition to see how your did!\n",
    "Include a screenshot of your results from the Kaggle competition inserted in a markdown cell at the bottom of your notebook."
   ]
  },
  {
   "cell_type": "markdown",
   "id": "18fdf1c2",
   "metadata": {},
   "source": [
    "# Data Imports"
   ]
  },
  {
   "cell_type": "code",
   "execution_count": null,
   "id": "180b4118",
   "metadata": {},
   "outputs": [],
   "source": [
    "filename = ''"
   ]
  }
 ],
 "metadata": {
  "kernelspec": {
   "display_name": "Python (dojo-env)",
   "language": "python",
   "name": "dojo-env"
  },
  "language_info": {
   "codemirror_mode": {
    "name": "ipython",
    "version": 3
   },
   "file_extension": ".py",
   "mimetype": "text/x-python",
   "name": "python",
   "nbconvert_exporter": "python",
   "pygments_lexer": "ipython3",
   "version": "3.9.15"
  },
  "toc": {
   "base_numbering": 1,
   "nav_menu": {},
   "number_sections": false,
   "sideBar": true,
   "skip_h1_title": false,
   "title_cell": "Table of Contents",
   "title_sidebar": "Contents",
   "toc_cell": false,
   "toc_position": {},
   "toc_section_display": true,
   "toc_window_display": false
  }
 },
 "nbformat": 4,
 "nbformat_minor": 5
}
